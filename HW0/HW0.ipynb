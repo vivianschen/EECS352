{
 "cells": [
  {
   "cell_type": "markdown",
   "metadata": {
    "deletable": false,
    "editable": false,
    "nbgrader": {
     "checksum": "254eaaa7edec1b79e10649197e09ce49",
     "grade": false,
     "grade_id": "cell-7a5b4dc02728c706",
     "locked": true,
     "schema_version": 1,
     "solution": false
    }
   },
   "source": [
    "Homework 0 — (5 points)\n",
    "======\n",
    "## Overview\n",
    "The goal of this assignment is to set up your development environment and to familiarize you with some of the Python packages you will be using this quarter. We will be using Jupyter notebooks (previously known as IPython notebooks) for homeworks this quarter. The homeworks will be distributed as notebooks and you will submit them as notebooks—in fact, what you are reading now is a Jupyter notebook.\n",
    "\n",
    "### What to hand in\n",
    "You are to submit the following things for this homework:\n",
    "1. A Jupyter notebook containing all code and output (figures and audio). I should be able to evaluate the file to reproduce all output. \n",
    "1. Any other data that we tell you to save to a file (e.g. audio files).\n",
    "\n",
    "NOTE: To make sure that when I reevaluate your code it generates the output you expect, it's good practice to restart the Jupyter Python kernel, clear all output, and then run all cells again. Since cells can be run in any order and deleted, etc., it's easy for you to accidentally break your code and not realize it... :/\n",
    "\n",
    "### How to hand it in\n",
    "To submit your lab:\n",
    "1. Compress all of the files specified into a .zip file. Include all the files that are required **for the notebook to run from the submission folder** (e.g. audio files provided along with the assignment).   \n",
    "1. Name the file in the following manner, firstname_lastname_hw0.zip. For example, Bryan_Pardo_hw0.zip. \n",
    "1. Submit this .zip file via Canvas"
   ]
  },
  {
   "cell_type": "markdown",
   "metadata": {
    "deletable": false,
    "editable": false,
    "nbgrader": {
     "checksum": "501a098e975bcfcb44c48738abed7f35",
     "grade": false,
     "grade_id": "cell-7a62a539d1787b8a",
     "locked": true,
     "schema_version": 1,
     "solution": false
    }
   },
   "source": [
    "<div style=\"text-align: center;\" class=\"alert alert-danger\"><h3>CHECK CANVAS FOR DUE DATE</h3></div>"
   ]
  },
  {
   "cell_type": "markdown",
   "metadata": {
    "deletable": false,
    "editable": false,
    "nbgrader": {
     "checksum": "775118bd99c9ff5f704a57822022da82",
     "grade": false,
     "grade_id": "cell-4097090525dd4cb3",
     "locked": true,
     "schema_version": 1,
     "solution": false
    }
   },
   "source": [
    "<div class=\"alert alert-success\">\n",
    "<b>(.5 points):</b> What is the class policy on late submissions for homeworks? Copy and paste it below:\n",
    "</div>\n"
   ]
  },
  {
   "cell_type": "markdown",
   "metadata": {},
   "source": [
    "YOUR ANSWER HERE"
   ]
  },
  {
   "cell_type": "markdown",
   "metadata": {
    "deletable": false,
    "editable": false,
    "nbgrader": {
     "checksum": "f05edafb5e2a73ec2ff2155306b77928",
     "grade": false,
     "grade_id": "asdf234q23r",
     "locked": true,
     "schema_version": 1,
     "solution": false
    }
   },
   "source": [
    "<div class=\"alert alert-success\">\n",
    "<b>(1.5 points):</b> This homework is a bit different than others since it's partially a tutorial. Simply reading through the assignment and generating the output for each cell accounts for 1.5 points.\n",
    "</div>"
   ]
  },
  {
   "cell_type": "markdown",
   "metadata": {
    "deletable": false,
    "editable": false,
    "nbgrader": {
     "checksum": "7082d8f79677c17b84a483abfe444477",
     "grade": false,
     "grade_id": "cell-d719eeece7e80758",
     "locked": true,
     "schema_version": 1,
     "solution": false
    }
   },
   "source": [
    "## 1. Setup your development environment\n",
    "### Install Miniconda\n",
    "Miniconda is a Python distribution that we will be using in the course. It is the little sibling of [Anaconda](https://www.continuum.io/downloads). Using Miniconda ensures that we are all using the same environment with the same version of packages.\n",
    "\n",
    "To install Miniconda, go to http://conda.pydata.org/miniconda.html, download the Python 3.7 Miniconda for your operating system. Then follow the ['quick install' instructions](http://conda.pydata.org/docs/install/quick.html).\n",
    "\n",
    "### Read the Conda documentation\n",
    "Conda is both the environment and package manager for Miniconda. For those familiar with Virtualenv and Pip, Conda performs both of their jobs. To learn about why you should use an environment manager and to get familiar with Conda, read through a quick tutorial [here](http://conda.pydata.org/docs/test-drive.html).\n",
    "\n",
    "### Create a Conda environment for the class\n",
    "Let's create a Conda environment that we will use for all of the homeworks. To create a Conda environment and install Python packages needed for the course, run the following command in the terminal:\n",
    "```\n",
    "conda create --name eecs352 -c conda-forge ipython jupyter scipy numpy matplotlib scikit-learn librosa\n",
    "```\n",
    "\n",
    "\n",
    "### Activate your Conda environment\n",
    "Before you use a Conda environment in a new terminal session, you must activate it with the following command:\n",
    "\n",
    "**Linux, OS X**: `source activate eecs352`\n",
    "\n",
    "**Windows**: `activate eecs352`"
   ]
  },
  {
   "cell_type": "markdown",
   "metadata": {
    "deletable": false,
    "editable": false,
    "nbgrader": {
     "checksum": "a79e851f65db030c7c9e0d4f3e1cfb20",
     "grade": false,
     "grade_id": "cell-2ac6bf775e578f94",
     "locked": true,
     "schema_version": 1,
     "solution": false
    }
   },
   "source": [
    "<div class=\"alert alert-danger\">\n",
    "Unless instructed in a future homework assignment, <b>DO NOT INSTALL OTHER PACKAGES INTO THE eecs352 CONDA ENVIRONMENT</b>. This constraint is in place so that you do not use a package that is not installed on our system. You will be graded on whether your code runs in our Conda environment with the specified installed packages (i.e. a conda environment created as detailed above). <b>IF YOUR CODE DOES NOT RUN IN OUR CONDA ENVIRONMENT, YOU WILL NOT GET CREDIT</b>\n",
    "</div>"
   ]
  },
  {
   "cell_type": "markdown",
   "metadata": {
    "deletable": false,
    "editable": false,
    "nbgrader": {
     "checksum": "6741bae422bbc80562e8bd702cd9e953",
     "grade": false,
     "grade_id": "cell-7fea2afad4626aba",
     "locked": true,
     "schema_version": 1,
     "solution": false
    }
   },
   "source": [
    "## 2. Open the HW0 notebook\n",
    "This quarter, we're trying something new. Instead of submitting separate source code files, audio files, and response pdfs, you will simply submit a Jupyter notebook file that contains all of that data (with possibly a few extra files). In fact, the file you are reading right now is a Jupyter notebook. For every assignment, we will provide you with a Jupyter notebook which you will complete with your own code, figures, data, and responses. \n",
    "\n",
    "1. Open a terminal and navigate to the HW0 folder (i.e. the folder that contains the file you are reading)\n",
    "1. Activate your `eecs352` environment if you have not already done so\n",
    "1. Start the Jupyter server and load the HW0 notebook file (HW0.ipynb), i.e.: \n",
    "```\n",
    "jupyter notebook HW0.ipynb\n",
    "```\n",
    "\n",
    "The last command should have opened your web browser to the HW0 notebook. If not, open your browser, type in `localhost:8888` and navigate to and open the notebook file.\n",
    "\n",
    "I highly recommend committing your notebook to a Github repository and checking in changes as you progress. Github now supports rendering of Jupyter notebooks which makes looking at previous versions very simple."
   ]
  },
  {
   "cell_type": "markdown",
   "metadata": {
    "deletable": false,
    "editable": false,
    "nbgrader": {
     "checksum": "58e2e1a6691f44598cb381087e59e6a3",
     "grade": false,
     "grade_id": "cell-f9e10af9c60dddd3",
     "locked": true,
     "schema_version": 1,
     "solution": false
    }
   },
   "source": [
    "## 3. Getting help\n",
    "All of the Python tools and packages we will be using this quarter have excellent documentation:\n",
    "* **Conda** (manager for Python environments and packages): http://conda.pydata.org/docs/\n",
    "* **IPython** (interactive Python shell): http://ipython.readthedocs.org/en/stable/\n",
    "* **Jupyter** (notebook server for iPython): https://jupyter.readthedocs.org/en/latest/\n",
    "* **NumPy / SciPy** (scientific computing package): http://docs.scipy.org/doc/\n",
    "* **Matplotlib** (plotting package): http://matplotlib.org\n",
    "* **Scikit-Learn** (machine learning package): http://scikit-learn.org/stable/documentation.html\n",
    "* **Librosa** (audio feature extraction package): http://librosa.github.io/librosa/\n",
    "\n",
    "Much of this documentation can be accessed directly from the Jupyter Help menu along with other useful links to documentation on Markdown, Python, Jupyter Notebook, etc. If you have never used Jupyter or IPython Notebook before, I highly recommend reviewing the *User Interface Tour*, *Keyboard Shortcuts*, and *Notebook Help* links from the Help menu before proceeding."
   ]
  },
  {
   "cell_type": "markdown",
   "metadata": {
    "deletable": false,
    "editable": false,
    "nbgrader": {
     "checksum": "37d0ffe83660bd5ce4b1a7162fa469f9",
     "grade": false,
     "grade_id": "cell-d30e1c17570c3b00",
     "locked": true,
     "schema_version": 1,
     "solution": false
    }
   },
   "source": [
    "## 4. Confirm your environment is setup properly"
   ]
  },
  {
   "cell_type": "markdown",
   "metadata": {
    "deletable": false,
    "editable": false,
    "nbgrader": {
     "checksum": "e66f29653834713e5716a67418dc669c",
     "grade": false,
     "grade_id": "cell-c6769a6f5a728835",
     "locked": true,
     "schema_version": 1,
     "solution": false
    }
   },
   "source": [
    "<div class=\"alert alert-success\">\n",
    "<b>(1 point):</b> Confirm that your environment has been setup properly with the correct packages and version of Python. To receive the point, your package versions must be at least as high as those specified in parentheses. To print out the version numbers of the installed packages, execute the following \"cell\" (<code>Shift-Enter</code> will run a cell and move on to the next one, <code>Ctrl-Enter</code> will run a cell and stay on the current one.):\n",
    "</div>"
   ]
  },
  {
   "cell_type": "code",
   "execution_count": 1,
   "metadata": {
    "deletable": false,
    "editable": false,
    "nbgrader": {
     "checksum": "7350d6fe6124cfc1f93b621d55eaba34",
     "grade": false,
     "grade_id": "cell-470974c8cdedcd77",
     "locked": true,
     "schema_version": 1,
     "solution": false
    }
   },
   "outputs": [
    {
     "name": "stdout",
     "output_type": "stream",
     "text": [
      "Python version:       3.6.6  (need at least 3.0.0)\n"
     ]
    }
   ],
   "source": [
    "import sys\n",
    "print(\"Python version:       %6.6s (need at least 3.0.0)\" % sys.version)"
   ]
  },
  {
   "cell_type": "code",
   "execution_count": 2,
   "metadata": {
    "deletable": false,
    "editable": false,
    "nbgrader": {
     "checksum": "f454c22ecfb9e710a8dcfed3882613d1",
     "grade": false,
     "grade_id": "cell-ae259a31e9266859",
     "locked": true,
     "schema_version": 1,
     "solution": false
    }
   },
   "outputs": [
    {
     "name": "stdout",
     "output_type": "stream",
     "text": [
      "IPython version:       7.2.0 (need at least 4.0.1)\n",
      "Numpy version:        1.15.4 (need at least 1.10.1)\n",
      "SciPy version:         1.1.0 (need at least 0.16.0)\n",
      "Matplotlib version:    3.0.2 (need at least 1.5.0)\n",
      "Scikit-Learn version: 0.20.2 (need at least 0.17)\n",
      "Librosa version:       0.6.2 (need at least 0.4.1)\n"
     ]
    }
   ],
   "source": [
    "import IPython, numpy as np, scipy as sp, matplotlib.pyplot as plt, matplotlib, sklearn, librosa\n",
    "%matplotlib inline\n",
    "# NOTE: librosa may take a while to import\n",
    "\n",
    "print(\"IPython version:      %6.6s (need at least 4.0.1)\" % IPython.__version__)\n",
    "print(\"Numpy version:        %6.6s (need at least 1.10.1)\" % np.__version__)\n",
    "print(\"SciPy version:        %6.6s (need at least 0.16.0)\" % sp.__version__)\n",
    "print(\"Matplotlib version:   %6.6s (need at least 1.5.0)\" % matplotlib.__version__)\n",
    "print(\"Scikit-Learn version: %6.6s (need at least 0.17)\" % sklearn.__version__)\n",
    "print(\"Librosa version:      %6.6s (need at least 0.4.1)\" % librosa.__version__)"
   ]
  },
  {
   "cell_type": "markdown",
   "metadata": {
    "deletable": false,
    "editable": false,
    "nbgrader": {
     "checksum": "2288216f7b9d578a196299b57a6d4e24",
     "grade": false,
     "grade_id": "cell-ed33500f1c264425",
     "locked": true,
     "schema_version": 1,
     "solution": false
    }
   },
   "source": [
    "If you're using a recent Miniconda/Anaconda install and followed the above instructions correctly, then all of your package versions should be at least as high as those in the parentheses. If not, install the correct versions, restart your kernel, and run the cell again. If you are running a previously installed Miniconda/Anaconda, you may simply have to update the packages in your environment (e.g. run \"`conda update --all`\" in your `eecs352` environment).\n",
    "\n",
    "**NOTE: If `librosa` warns you that it cannot import `scikits.samplerate`, don't worry—it should still run fine.**"
   ]
  },
  {
   "cell_type": "markdown",
   "metadata": {
    "deletable": false,
    "editable": false,
    "nbgrader": {
     "checksum": "0bb7fd5d07f7facaf7e3bd6185c14e5e",
     "grade": false,
     "grade_id": "cell-a0ad5ba504bbf79c",
     "locked": true,
     "schema_version": 1,
     "solution": false
    }
   },
   "source": [
    "## 5. Working with audio signals\n",
    "Now, that our environment is set up, let's try synthesizing a few simple audio files. Just step through and evaluate each cell by pressing (`Shift-Enter`). \n",
    "\n",
    "Let's first synthesize a 2 second sine wave at an 220 Hz (the A below middle C)."
   ]
  },
  {
   "cell_type": "code",
   "execution_count": null,
   "metadata": {
    "deletable": false,
    "editable": false,
    "nbgrader": {
     "checksum": "cf60e6de293f2853594bb7210ebb76bd",
     "grade": false,
     "grade_id": "cell-051638617ab413e8",
     "locked": true,
     "schema_version": 1,
     "solution": false
    }
   },
   "outputs": [],
   "source": [
    "freq = 220. # the frequency\n",
    "length = 3. # length in seconds\n",
    "sr = 44100. # the sampling rate (we'll talk about what this is soon...)\n",
    "t = np.arange(0,length*sr)/sr\n",
    "x = np.sin(2*np.pi*freq*t)\n",
    "plt.figure(figsize=(16,4))\n",
    "plt.plot(t,x) # plot it with matplotlib\n",
    "plt.ylabel('amplitude')\n",
    "plt.xlabel('time (s)')\n",
    "plt.show()"
   ]
  },
  {
   "cell_type": "markdown",
   "metadata": {
    "deletable": false,
    "editable": false,
    "nbgrader": {
     "checksum": "f2c74177f35e244e5dbc00f5c8095819",
     "grade": false,
     "grade_id": "cell-e4370e7fb75f88fc",
     "locked": true,
     "schema_version": 1,
     "solution": false
    }
   },
   "source": [
    "Doesn't look like much since there are so many cycles. Let's look at just the first 1000 samples to get a better idea:"
   ]
  },
  {
   "cell_type": "code",
   "execution_count": null,
   "metadata": {
    "deletable": false,
    "editable": false,
    "nbgrader": {
     "checksum": "d44c027488c34c472b38c9029d730d63",
     "grade": false,
     "grade_id": "cell-2799fadb1746817b",
     "locked": true,
     "schema_version": 1,
     "solution": false
    }
   },
   "outputs": [],
   "source": [
    "plt.figure(figsize=(16,4))\n",
    "plt.plot(t[:1000],x[:1000])\n",
    "plt.ylabel('amplitude')\n",
    "plt.xlabel('time (s)')\n",
    "plt.show()"
   ]
  },
  {
   "cell_type": "markdown",
   "metadata": {
    "deletable": false,
    "editable": false,
    "nbgrader": {
     "checksum": "b1cbca8de6b7c3e8b1000097e151b418",
     "grade": false,
     "grade_id": "cell-fcb65d9b2c0d00bc",
     "locked": true,
     "schema_version": 1,
     "solution": false
    }
   },
   "source": [
    "Since, we're going to be plotting a lot of audio files, let's write a function for it."
   ]
  },
  {
   "cell_type": "code",
   "execution_count": null,
   "metadata": {
    "deletable": false,
    "editable": false,
    "nbgrader": {
     "checksum": "5645abc05bc5516e26489372b3b454ad",
     "grade": false,
     "grade_id": "cell-9ddc60e6bbe4168a",
     "locked": true,
     "schema_version": 1,
     "solution": false
    }
   },
   "outputs": [],
   "source": [
    "def plot_audio(x, sr, figsize=(16,4)):\n",
    "    \"\"\"\n",
    "    A simple audio plotting function\n",
    "    \n",
    "    Parameters\n",
    "    ----------\n",
    "    x: np.ndarray\n",
    "        Audio signal to plot\n",
    "    sr: int\n",
    "        Sample rate\n",
    "    figsize: tuple\n",
    "        A duple representing the figure size (xdim,ydim)\n",
    "    \"\"\"\n",
    "    length = float(x.shape[0]) / sr\n",
    "    t = np.linspace(0,length,x.shape[0])\n",
    "    plt.figure(figsize=figsize)\n",
    "    plt.plot(t, x)\n",
    "    plt.ylabel('Amplitude')\n",
    "    plt.xlabel('Time (s)')\n",
    "    plt.show()"
   ]
  },
  {
   "cell_type": "code",
   "execution_count": null,
   "metadata": {
    "deletable": false,
    "editable": false,
    "nbgrader": {
     "checksum": "3835d727f9ddce81bbf41963e4c9a159",
     "grade": false,
     "grade_id": "cell-32fd3131f13c7e9f",
     "locked": true,
     "schema_version": 1,
     "solution": false
    }
   },
   "outputs": [],
   "source": [
    "plot_audio(x[:1000], sr)"
   ]
  },
  {
   "cell_type": "markdown",
   "metadata": {
    "deletable": false,
    "editable": false,
    "nbgrader": {
     "checksum": "eb4584c3711e47957cf7ade3113dc1dd",
     "grade": false,
     "grade_id": "cell-2398c5c6b9240060",
     "locked": true,
     "schema_version": 1,
     "solution": false
    }
   },
   "source": [
    "Ahhh, that's better. \n",
    "\n",
    "Jupyter/IPython has an extension to embed audio files. Let's use it to listen to our signal."
   ]
  },
  {
   "cell_type": "code",
   "execution_count": null,
   "metadata": {
    "deletable": false,
    "editable": false,
    "nbgrader": {
     "checksum": "b67f32e553b688f9e5a415f23f09ccdb",
     "grade": false,
     "grade_id": "cell-3bf44e9d8745eeb0",
     "locked": true,
     "schema_version": 1,
     "solution": false
    }
   },
   "outputs": [],
   "source": [
    "from IPython.display import Audio\n",
    "Audio(x, rate=sr)"
   ]
  },
  {
   "cell_type": "markdown",
   "metadata": {
    "deletable": false,
    "editable": false,
    "nbgrader": {
     "checksum": "d95fd65983331033f7f8e23b8e3d9d1f",
     "grade": false,
     "grade_id": "cell-12482b40515dc5e5",
     "locked": true,
     "schema_version": 1,
     "solution": false
    }
   },
   "source": [
    "However, Jupyter notebooks will not save if they get to be over 100MB. Be careful with embedding too much audio in your notebooks! \n",
    "\n",
    "Let's spice it up a bit by adding a sine wave that is a 5th (7 semitones) lower."
   ]
  },
  {
   "cell_type": "code",
   "execution_count": null,
   "metadata": {
    "deletable": false,
    "editable": false,
    "nbgrader": {
     "checksum": "7982a39168666b5a3c4ea98d660c666a",
     "grade": false,
     "grade_id": "cell-feefd8c8b73fafbc",
     "locked": true,
     "schema_version": 1,
     "solution": false
    }
   },
   "outputs": [],
   "source": [
    "freq2 = freq * 2**(-7/12.) \n",
    "x2 = np.sin(2*np.pi*freq2*t)\n",
    "x3 = x + x2\n",
    "# normalize so that we don't exceed the range -1:+1 (which can cause the output to distort). \n",
    "# `Audio` does this for us though, so if you forget, it's not a big deal.\n",
    "x3 = x3 / np.max(np.abs(x3)) \n",
    "Audio(x3, rate=sr)"
   ]
  },
  {
   "cell_type": "markdown",
   "metadata": {
    "deletable": false,
    "editable": false,
    "nbgrader": {
     "checksum": "0b3b5507887e5d45f48b80b68f8bcd34",
     "grade": false,
     "grade_id": "cell-9a1c6dd397b14e39",
     "locked": true,
     "schema_version": 1,
     "solution": false
    }
   },
   "source": [
    "Now let's modulate the amplitude with a low, sub-audio frequency (4 Hz)"
   ]
  },
  {
   "cell_type": "code",
   "execution_count": null,
   "metadata": {
    "deletable": false,
    "editable": false,
    "nbgrader": {
     "checksum": "ca3812f4a2db5b9401adc28ab4f22858",
     "grade": false,
     "grade_id": "cell-08569bbf4c0aaffa",
     "locked": true,
     "schema_version": 1,
     "solution": false
    }
   },
   "outputs": [],
   "source": [
    "mod_freq = 4\n",
    "mod_sig = (np.sin(2*mod_freq*np.pi*t) + 1.0) * 0.5\n",
    "x4 = x3 * mod_sig\n",
    "Audio(x4, rate=sr)"
   ]
  },
  {
   "cell_type": "markdown",
   "metadata": {
    "deletable": false,
    "editable": false,
    "nbgrader": {
     "checksum": "c17b325b9863d6c2d22850baa1032318",
     "grade": false,
     "grade_id": "cell-066dfe5363be1c26",
     "locked": true,
     "schema_version": 1,
     "solution": false
    }
   },
   "source": [
    "What does this waveform look like and what does the signal we modulated it with look like?"
   ]
  },
  {
   "cell_type": "code",
   "execution_count": null,
   "metadata": {
    "deletable": false,
    "editable": false,
    "nbgrader": {
     "checksum": "050d3b672af7f34e8aff7110f3788776",
     "grade": false,
     "grade_id": "cell-1fcb763ec51f4c9e",
     "locked": true,
     "schema_version": 1,
     "solution": false
    }
   },
   "outputs": [],
   "source": [
    "plot_audio(x4, sr)\n",
    "\n",
    "plot_audio(x4[:8000], sr)\n",
    "\n",
    "plot_audio(mod_sig, sr)"
   ]
  },
  {
   "cell_type": "markdown",
   "metadata": {
    "deletable": false,
    "editable": false,
    "nbgrader": {
     "checksum": "834c6bea56ede8be03077e559ad47714",
     "grade": false,
     "grade_id": "cell-585993fd046aae1f",
     "locked": true,
     "schema_version": 1,
     "solution": false
    }
   },
   "source": [
    "Cool, huh?\n",
    "\n",
    "How about some distortion??"
   ]
  },
  {
   "cell_type": "code",
   "execution_count": null,
   "metadata": {
    "deletable": false,
    "editable": false,
    "nbgrader": {
     "checksum": "716ac53361333b0bf4be792e8ccf8a62",
     "grade": false,
     "grade_id": "cell-ceb78344eb59d507",
     "locked": true,
     "schema_version": 1,
     "solution": false
    }
   },
   "outputs": [],
   "source": [
    "def distort(x, gain=1.0):\n",
    "    \"\"\"\n",
    "    Cubic soft-clipping\n",
    "    \n",
    "    Parameters\n",
    "    ----------\n",
    "    in_sig : np.ndarray\n",
    "        The input signal\n",
    "    gain : float\n",
    "        The input gain. Increase this value to distort more.\n",
    "    \"\"\"\n",
    "    x = x * gain\n",
    "    x[(x >= -1) & (x <= 1)] = x[(x >= -1) & (x <= 1)] - (x[(x >= -1) & (x <= 1)]**3) / 3.0\n",
    "    x[x <= -1] = -2.0 / 3.0\n",
    "    x[x >= 1] = 2.0 / 3.0\n",
    "    \n",
    "    return x\n",
    "\n",
    "x5 = distort(x4, 2.0) # try different gain values to hear/see how the sound is affected. Feel free to crank it to 11.\n",
    "plot_audio(x5, sr)\n",
    "Audio(x5, rate=sr)"
   ]
  },
  {
   "cell_type": "markdown",
   "metadata": {
    "deletable": false,
    "editable": false,
    "nbgrader": {
     "checksum": "aa73307f760300e9ceea220def772f0f",
     "grade": false,
     "grade_id": "cell-056357a8a7bf5f4a",
     "locked": true,
     "schema_version": 1,
     "solution": false
    }
   },
   "source": [
    "### Reading an audio file\n",
    "First, let's read in an audio file, a recording of Satie's *Gymnopédie No.1*. We can use librosa for this."
   ]
  },
  {
   "cell_type": "code",
   "execution_count": null,
   "metadata": {
    "deletable": false,
    "editable": false,
    "nbgrader": {
     "checksum": "7a174e9bd3051be9e4f69a6e10570ecf",
     "grade": false,
     "grade_id": "cell-67bf317466ee76a0",
     "locked": true,
     "schema_version": 1,
     "solution": false
    }
   },
   "outputs": [],
   "source": [
    "satie, sr = librosa.load('satie.wav', sr=sr, duration=30)"
   ]
  },
  {
   "cell_type": "markdown",
   "metadata": {
    "deletable": false,
    "editable": false,
    "nbgrader": {
     "checksum": "df9ea1f39f2b4ab50f960781db0c7b98",
     "grade": false,
     "grade_id": "cell-71a0b79d4334c511",
     "locked": true,
     "schema_version": 1,
     "solution": false
    }
   },
   "source": [
    "`librosa.load` outputs two variables, the signal (`satie`) and the sample rate (`sr`). What did the inputs `sr` and `duration` do? Run `%pdoc <function>` to see the docstring for a function, for example:"
   ]
  },
  {
   "cell_type": "code",
   "execution_count": null,
   "metadata": {
    "deletable": false,
    "editable": false,
    "nbgrader": {
     "checksum": "1a0dcf9dd2c730e5bdbd5d1592a85791",
     "grade": false,
     "grade_id": "cell-c74085596373f257",
     "locked": true,
     "schema_version": 1,
     "solution": false
    }
   },
   "outputs": [],
   "source": [
    "%pdoc librosa.load"
   ]
  },
  {
   "cell_type": "markdown",
   "metadata": {
    "deletable": false,
    "editable": false,
    "nbgrader": {
     "checksum": "6037c7c785cfa23fa37c14040f34894e",
     "grade": false,
     "grade_id": "cell-ecff27c79de66e0f",
     "locked": true,
     "schema_version": 1,
     "solution": false
    }
   },
   "source": [
    "**NOTE: The default behavior of `librosa.load` is to resample the audio signal to a sample rate of 22050. To override this behavior, you must supply the `sr` argument, setting it to your desired sample rate (44100 in our case). If you do not do this, you may have unexpected results such as causing the audio signal to be pitched up or pitched down.**"
   ]
  },
  {
   "cell_type": "markdown",
   "metadata": {
    "deletable": false,
    "editable": false,
    "nbgrader": {
     "checksum": "363d11c7693bad002fb84e80196e4e09",
     "grade": false,
     "grade_id": "cell-232bccbe7dba64ea",
     "locked": true,
     "schema_version": 1,
     "solution": false
    }
   },
   "source": [
    "Let's plot and listen to the signal we just read in."
   ]
  },
  {
   "cell_type": "code",
   "execution_count": null,
   "metadata": {
    "deletable": false,
    "editable": false,
    "nbgrader": {
     "checksum": "726e25e3be7d62b4b37cecde674be162",
     "grade": false,
     "grade_id": "cell-3242e7dfe1279d36",
     "locked": true,
     "schema_version": 1,
     "solution": false
    }
   },
   "outputs": [],
   "source": [
    "plot_audio(satie, sr)\n",
    "Audio(satie, rate=sr)"
   ]
  },
  {
   "cell_type": "markdown",
   "metadata": {
    "deletable": false,
    "editable": false,
    "nbgrader": {
     "checksum": "01edb98f0f325c6b65600e15a9b3c1a2",
     "grade": false,
     "grade_id": "cell-1e7527c8fd3047f2",
     "locked": true,
     "schema_version": 1,
     "solution": false
    }
   },
   "source": [
    "Hmmm... Satie is missing something... more cowbell? Let's load in a cowbell file and put a cowbell on every beat (quarter notes)."
   ]
  },
  {
   "cell_type": "code",
   "execution_count": null,
   "metadata": {
    "deletable": false,
    "editable": false,
    "nbgrader": {
     "checksum": "78938748056a160a3e8528e8b9688aba",
     "grade": false,
     "grade_id": "cell-23b761157fd4f032",
     "locked": true,
     "schema_version": 1,
     "solution": false
    }
   },
   "outputs": [],
   "source": [
    "cowbell, sr = librosa.load('cowbell.wav', sr=sr)"
   ]
  },
  {
   "cell_type": "markdown",
   "metadata": {
    "deletable": false,
    "editable": false,
    "nbgrader": {
     "checksum": "9bed3f39dbaa0139ce8117850189a549",
     "grade": false,
     "grade_id": "cell-04b2e3b4a96c478b",
     "locked": true,
     "schema_version": 1,
     "solution": false
    }
   },
   "source": [
    "`x` is the signal, and `sr` is the sampling rate. Let's plot and listen to it."
   ]
  },
  {
   "cell_type": "code",
   "execution_count": null,
   "metadata": {
    "deletable": false,
    "editable": false,
    "nbgrader": {
     "checksum": "02e21b3d9977d7afc6b8f1c531d7b481",
     "grade": false,
     "grade_id": "cell-93cc87f8d27973a8",
     "locked": true,
     "schema_version": 1,
     "solution": false
    }
   },
   "outputs": [],
   "source": [
    "plot_audio(cowbell, sr)\n",
    "Audio(cowbell, rate=sr)"
   ]
  },
  {
   "cell_type": "markdown",
   "metadata": {
    "deletable": false,
    "editable": false,
    "nbgrader": {
     "checksum": "e24cafb968f835063dd3c118c7d4f54e",
     "grade": false,
     "grade_id": "cell-50357b061db885d5",
     "locked": true,
     "schema_version": 1,
     "solution": false
    }
   },
   "source": [
    "Let's scale the amplitude down down a bit since it's a little loud in comparison to the Satie"
   ]
  },
  {
   "cell_type": "code",
   "execution_count": null,
   "metadata": {
    "deletable": false,
    "editable": false,
    "nbgrader": {
     "checksum": "1341c94b0c80989c0ce680508bb6473b",
     "grade": false,
     "grade_id": "cell-a38cb2b513cc0fb6",
     "locked": true,
     "schema_version": 1,
     "solution": false
    }
   },
   "outputs": [],
   "source": [
    "cowbell = cowbell * 0.5"
   ]
  },
  {
   "cell_type": "markdown",
   "metadata": {
    "deletable": false,
    "editable": false,
    "nbgrader": {
     "checksum": "1465497e8b3f2ec0dfb4d18a4cb5bc57",
     "grade": false,
     "grade_id": "cell-e07d6a63d46c6fc7",
     "locked": true,
     "schema_version": 1,
     "solution": false
    }
   },
   "source": [
    "### Reading a text file"
   ]
  },
  {
   "cell_type": "markdown",
   "metadata": {
    "deletable": false,
    "editable": false,
    "nbgrader": {
     "checksum": "2356f9d9fb65018cba4b7e0969b9dba5",
     "grade": false,
     "grade_id": "cell-fea616c098da3aec",
     "locked": true,
     "schema_version": 1,
     "solution": false
    }
   },
   "source": [
    "The internet told me that this performance was played at 76 beats per minute (BPM). I wrote a file that has the onset times at 76 BPM. Let's read it in. Reading and writing files is really easy in python—read more about it [here](https://docs.python.org/3/tutorial/inputoutput.html#reading-and-writing-files)."
   ]
  },
  {
   "cell_type": "code",
   "execution_count": null,
   "metadata": {
    "deletable": false,
    "editable": false,
    "nbgrader": {
     "checksum": "6700e9ce83bb346001cb8c30cd018dd3",
     "grade": false,
     "grade_id": "cell-4df227c678fbd6a1",
     "locked": true,
     "schema_version": 1,
     "solution": false
    }
   },
   "outputs": [],
   "source": [
    "with open('76bpm.txt','rb') as f:\n",
    "    beats = [int(l) for l in f.readlines()]\n",
    "print(beats)"
   ]
  },
  {
   "cell_type": "markdown",
   "metadata": {
    "deletable": false,
    "editable": false,
    "nbgrader": {
     "checksum": "e45075bb1d7d13a2f04e3226b3eaffc2",
     "grade": false,
     "grade_id": "cell-3c80c1d2f3d95981",
     "locked": true,
     "schema_version": 1,
     "solution": false
    }
   },
   "source": [
    "Now let's add a cowbell at each of these times."
   ]
  },
  {
   "cell_type": "code",
   "execution_count": null,
   "metadata": {
    "deletable": false,
    "editable": false,
    "nbgrader": {
     "checksum": "c11cc3e8aadc26e1982c2c99eacaebd9",
     "grade": false,
     "grade_id": "cell-bd42ede93513f28e",
     "locked": true,
     "schema_version": 1,
     "solution": false
    }
   },
   "outputs": [],
   "source": [
    "satie_w_cowbell = satie.copy()\n",
    "for start in beats:\n",
    "    stop = start + cowbell.shape[0]\n",
    "    satie_w_cowbell[start:stop] += cowbell\n",
    "\n",
    "plot_audio(satie_w_cowbell, sr)\n",
    "Audio(satie_w_cowbell, rate=sr)"
   ]
  },
  {
   "cell_type": "markdown",
   "metadata": {
    "deletable": false,
    "editable": false,
    "nbgrader": {
     "checksum": "90125518595f169eb3bf567c09cdaeeb",
     "grade": false,
     "grade_id": "cell-f3b88180a5fa1f96",
     "locked": true,
     "schema_version": 1,
     "solution": false
    }
   },
   "source": [
    "### Writing audio files\n",
    "\n",
    "Here is a function for writing wave files (we'll include this at the top of homeworks in which it is needed). Let's write our new cowbell infused Satie to disk."
   ]
  },
  {
   "cell_type": "code",
   "execution_count": null,
   "metadata": {
    "deletable": false,
    "editable": false,
    "nbgrader": {
     "checksum": "189a89fa7fe2bb4dd0da8fed4d49db66",
     "grade": false,
     "grade_id": "cell-98c79e5698844684",
     "locked": true,
     "schema_version": 1,
     "solution": false
    }
   },
   "outputs": [],
   "source": [
    "import scipy.io.wavfile\n",
    "\n",
    "def wavwrite(filepath, data, sr, norm=True, dtype='int16',):\n",
    "    '''\n",
    "    Write wave file using scipy.io.wavefile.write, converting from a float (-1.0 : 1.0) numpy array to an integer array\n",
    "    \n",
    "    Parameters\n",
    "    ----------\n",
    "    filepath : str\n",
    "        The path of the output .wav file\n",
    "    data : np.array\n",
    "        The float-type audio array\n",
    "    sr : int\n",
    "        The sampling rate\n",
    "    norm : bool\n",
    "        If True, normalize the audio to -1.0 to 1.0 before converting integer\n",
    "    dtype : str\n",
    "        The output type. Typically leave this at the default of 'int16'.\n",
    "    '''\n",
    "    if norm:\n",
    "        data /= np.max(np.abs(data))\n",
    "    data = data * np.iinfo(dtype).max\n",
    "    data = data.astype(dtype)\n",
    "    scipy.io.wavfile.write(filepath, sr, data)"
   ]
  },
  {
   "cell_type": "code",
   "execution_count": null,
   "metadata": {
    "deletable": false,
    "editable": false,
    "nbgrader": {
     "checksum": "c34ff1fcb0384e1da14fe807117df3b8",
     "grade": false,
     "grade_id": "cell-5c237dedcafe9920",
     "locked": true,
     "schema_version": 1,
     "solution": false
    }
   },
   "outputs": [],
   "source": [
    "# The `norm` parameter to the function, normalizes the signal to -1 to +1 also so you don't have to worry about it. \n",
    "# By default this parameter is set to True\n",
    "wavwrite('satie_w_cowbell.wav', satie_w_cowbell, int(sr), norm=True)"
   ]
  },
  {
   "cell_type": "markdown",
   "metadata": {
    "deletable": false,
    "editable": false,
    "nbgrader": {
     "checksum": "d4f479730b3a1fb86c836c25c2792bc6",
     "grade": false,
     "grade_id": "cell-8a059e084999a24d",
     "locked": true,
     "schema_version": 1,
     "solution": false
    }
   },
   "source": [
    "## 7. Librosa"
   ]
  },
  {
   "cell_type": "markdown",
   "metadata": {
    "deletable": false,
    "editable": false,
    "nbgrader": {
     "checksum": "25122b3605217006cd887dee68538a9e",
     "grade": false,
     "grade_id": "cell-faf533972562ef9e",
     "locked": true,
     "schema_version": 1,
     "solution": false
    }
   },
   "source": [
    "Hmmm... 76 BPM sounded a bit off, didn't it?? We can also tell that it is off by looking at the plot above—the sharp spikes in amplitude (which are the cowbell) are not aligned with the other (less sharp, and longer decaying) spikes (the piano). We want all of the spikes to be aligned with each other. Let's try using `librosa` to detect the onsets instead of using the times from the file!\n",
    "\n",
    "Librosa has a lot of great functions for analyzing audio. One of which is [`librosa.onset.onset_detect`](https://librosa.github.io/librosa/generated/librosa.onset.onset_detect.html#librosa.onset.onset_detect) for detecting onsets."
   ]
  },
  {
   "cell_type": "code",
   "execution_count": null,
   "metadata": {
    "deletable": false,
    "editable": false,
    "nbgrader": {
     "checksum": "c72b917c65eda37b23380af7c65c5812",
     "grade": false,
     "grade_id": "cell-314ac4210b12c027",
     "locked": true,
     "schema_version": 1,
     "solution": false
    }
   },
   "outputs": [],
   "source": [
    "# The hop length of the onset detector in samples (we'll talk about this more later when we \n",
    "# talk about the spectral analysis and the STFT). Decreasing this number increases the resolution of the detector.\n",
    "hop = 128\n",
    "\n",
    "# Detect onsets. The `wait` parameter specifies how many frames (i.e. hop lengths) we should wait \n",
    "# before detecting another onset. This allows us to filter out spurious onsets.\n",
    "onset_frames = librosa.onset.onset_detect(satie, sr, hop_length=hop, wait=((0.5 * sr) / hop))\n",
    "\n",
    "# The onset detector outputs frames. We need to convert this to samples.\n",
    "onsets = librosa.frames_to_samples(onset_frames, hop_length=hop)\n",
    "\n",
    "satie_w_cowbell2 = satie.copy()\n",
    "for start in onsets:\n",
    "    stop = start + cowbell.shape[0]\n",
    "    satie_w_cowbell2[start:stop] += cowbell\n",
    "    \n",
    "plot_audio(satie_w_cowbell2, sr)\n",
    "Audio(satie_w_cowbell2, rate=sr)"
   ]
  },
  {
   "cell_type": "markdown",
   "metadata": {
    "deletable": false,
    "editable": false,
    "nbgrader": {
     "checksum": "f7d81691d91916db63f78350cf5ae995",
     "grade": false,
     "grade_id": "cell-fee2f8e6b68886a6",
     "locked": true,
     "schema_version": 1,
     "solution": false
    }
   },
   "source": [
    "That's cool, but we want the cowbell to occur on every quarter note beat, not just the beats on which there is a piano note. Let's try a beat tracker instead: [`librosa.beat.beat_track`](https://librosa.github.io/librosa/generated/librosa.beat.beat_track.html).\n",
    "\n",
    "*Note: don't worry if you get a FutureWarning. You can safely ignore it.*"
   ]
  },
  {
   "cell_type": "code",
   "execution_count": null,
   "metadata": {
    "deletable": false,
    "editable": false,
    "nbgrader": {
     "checksum": "8b685182e1e4cb4e023fe2558718e08c",
     "grade": false,
     "grade_id": "cell-0861b203169f8500",
     "locked": true,
     "schema_version": 1,
     "solution": false
    }
   },
   "outputs": [],
   "source": [
    "# The hop length of the beat tracker in samples\n",
    "hop = 128\n",
    "\n",
    "# Track the beat\n",
    "tempo, beat_frames = librosa.beat.beat_track(satie, sr, hop_length=hop, start_bpm=76, tightness=200)\n",
    "print('Tempo: %f' % tempo)\n",
    "\n",
    "# The beat tracker outputs frames. We need to convert this to samples.\n",
    "beats = librosa.frames_to_samples(beat_frames, hop_length=hop)\n",
    "\n",
    "satie_w_cowbell3 = satie.copy()\n",
    "for start in beats:\n",
    "    stop = start + cowbell.shape[0]\n",
    "    satie_w_cowbell3[start:stop] += cowbell\n",
    "    \n",
    "plot_audio(satie_w_cowbell3, sr)\n",
    "Audio(satie_w_cowbell3, rate=sr)"
   ]
  },
  {
   "cell_type": "markdown",
   "metadata": {
    "deletable": false,
    "editable": false,
    "nbgrader": {
     "checksum": "450fe301a488fa6ac26433d33eeb7a19",
     "grade": false,
     "grade_id": "cell-f3418727df457ba8",
     "locked": true,
     "schema_version": 1,
     "solution": false
    }
   },
   "source": [
    "Interesting. So, it detected the tempo at half of what we expect it, but since this piece has a time signature of 3/4, the results are odd. It also decided that the onsets in the first half were not strong enough to include."
   ]
  },
  {
   "cell_type": "markdown",
   "metadata": {
    "deletable": false,
    "editable": false,
    "nbgrader": {
     "checksum": "4f7a5f5f02fdbf8f8d903c4ee079946b",
     "grade": false,
     "grade_id": "cell-cce6d7b786b25861",
     "locked": true,
     "schema_version": 1,
     "solution": false
    }
   },
   "source": [
    "<div class=\"alert alert-success\">\n",
    "<b>(1 point):</b> Look at <code>librosa.beat.beat_track</code> documentation. Given what you know about the signal, adjust the arguments to the function so that it correctly outputs the onset time for each quarter note beat. Add cowbell at those beats. <b>Insert your code below and save your output to a variable named <code>satie_w_cowbell_submitted</code> and write it to a wav file named <code>satie_w_cowbell_submitted.wav</code>.</b>\n",
    "<br />\n",
    "<br />\n",
    "It should look and sound like the following:\n",
    "</div>"
   ]
  },
  {
   "cell_type": "code",
   "execution_count": null,
   "metadata": {
    "deletable": false,
    "editable": false,
    "nbgrader": {
     "checksum": "95e30dd20140df7b70e23d8947a24ab7",
     "grade": false,
     "grade_id": "cell-19ecfaaec8ba086a",
     "locked": true,
     "schema_version": 1,
     "solution": false
    }
   },
   "outputs": [],
   "source": [
    "satie_w_cowbell_correct, sr = librosa.load('satie_w_cowbell_correct.wav', sr=sr)\n",
    "plot_audio(satie_w_cowbell_correct, sr)\n",
    "Audio(satie_w_cowbell_correct, rate=sr)"
   ]
  },
  {
   "cell_type": "code",
   "execution_count": null,
   "metadata": {},
   "outputs": [],
   "source": [
    "# YOUR CODE HERE\n",
    "\n",
    "plot_audio(satie_w_cowbell_submitted, sr)\n",
    "Audio(satie_w_cowbell_submitted, rate=sr)"
   ]
  },
  {
   "cell_type": "markdown",
   "metadata": {
    "deletable": false,
    "editable": false,
    "nbgrader": {
     "checksum": "c2fb59d5b6c2312097dd42114fd66838",
     "grade": false,
     "grade_id": "cell-d6970b7ed419514b",
     "locked": true,
     "schema_version": 1,
     "solution": false
    }
   },
   "source": [
    "<div class=\"alert alert-success\">\n",
    "<b>(1 point):</b> Using what you've learned so far, try writing code to manipulate the Satie excerpt in a new way that you find interesting (yeah... be a little creative). You can process it or add to it. Maybe try delving into <code>librosa</code> to extract information from the signal to inform the way you process it. Below is an example to give you more ideas. Make your own though... working with audio is fun! Ohh, and please comment your code, stating what your intention is with each step.\n",
    "<br />\n",
    "<br />\n",
    "<b>Save your output signal to a variable named <code>that_crazy_old_satie</code> and write it to a wav file named <code>that_crazy_old_satie.wav</code>.</b>\n",
    "</div>"
   ]
  },
  {
   "cell_type": "code",
   "execution_count": null,
   "metadata": {
    "deletable": false,
    "editable": false,
    "nbgrader": {
     "checksum": "1035bf6a580055bb550791997a7d19b9",
     "grade": false,
     "grade_id": "cell-b7cba9190b4b081c",
     "locked": true,
     "schema_version": 1,
     "solution": false
    }
   },
   "outputs": [],
   "source": [
    "# copy satie\n",
    "satie_bkwds = satie.copy()\n",
    "\n",
    "# add in a pitched up cowbell at 77 * 4 bpm\n",
    "beats = np.round(np.arange(0,30,60 / (77*4.0)) * sr).astype('int')\n",
    "\n",
    "for start in beats:\n",
    "    stop = start + cowbell[::2].shape[0]\n",
    "    satie_bkwds[start:stop] += (cowbell[::2] * 0.1)\n",
    "\n",
    "\n",
    "# let's double the speed and reverse it too\n",
    "satie_bkwds = satie_bkwds[::-2]\n",
    "    \n",
    "# find 2 strongest chroma in the satie\n",
    "chroma_cq = librosa.feature.chroma_cqt(satie, sr=sr)\n",
    "idx1 = np.argsort(np.mean(chroma_cq, axis=1))[-1]\n",
    "idx2 = np.argsort(np.mean(chroma_cq, axis=1))[-2]\n",
    "\n",
    "# calculate the frequencies\n",
    "freq1 = 261.6 * (2 ** (idx1 / 12.)) * 0.5\n",
    "freq2 = 261.6 * (2 ** (idx2 / 12.)) * 0.5\n",
    "\n",
    "# synthesize a drone\n",
    "length = float(satie_bkwds.shape[0]) / sr\n",
    "t = np.linspace(0,length,satie_bkwds.shape[0])\n",
    "bass = np.sin(2*np.pi*freq1*t) + np.sin(2*np.pi*freq2*t) + np.sin(2*np.pi*freq2*0.5*t)\n",
    "\n",
    "# modulate\n",
    "mod_sig = (1 + np.sin(2*np.pi*0.1*t)) + 0.5\n",
    "mod_sig2 = (1 + np.sin(2*np.pi*mod_sig*t))\n",
    "bass = bass * (0.5 * mod_sig2)\n",
    "\n",
    "# distort\n",
    "bass = distort(bass)\n",
    "    \n",
    "that_crazy_old_satie = (bass * 0.5) + satie_bkwds\n",
    "that_crazy_old_satie = that_crazy_old_satie / np.max(np.abs(that_crazy_old_satie))\n",
    "\n",
    "plot_audio(that_crazy_old_satie, sr)\n",
    "Audio(that_crazy_old_satie, rate=sr)"
   ]
  },
  {
   "cell_type": "code",
   "execution_count": null,
   "metadata": {},
   "outputs": [],
   "source": [
    "# YOUR CODE HERE\n",
    "\n",
    "plot_audio(that_crazy_old_satie, sr)\n",
    "wavwrite('that_crazy_old_satie.wav', that_crazy_old_satie, int(sr))\n",
    "Audio(that_crazy_old_satie, rate=sr)"
   ]
  },
  {
   "cell_type": "markdown",
   "metadata": {
    "deletable": false,
    "editable": false,
    "nbgrader": {
     "checksum": "634fcb8048624d6b3eb32e7833190e47",
     "grade": false,
     "grade_id": "cell-91f2cb288daac2fc",
     "locked": true,
     "schema_version": 1,
     "solution": false
    }
   },
   "source": [
    "### 8. Rerun your code and double-check the output\n",
    "Now, to make sure you haven't accidentally removed code necessary to generate the output you expect:\n",
    "1. Clear all output and restart the Jupyter Python kernel\n",
    "    1. Select the \"Kernel\" drop-down menu\n",
    "    1. Click \"restart\"\n",
    "    1. Select \"Clear all outputs & restart\"\n",
    "1. Run all cells\n",
    "    1. Select the \"Cell\" drop-down menu\n",
    "    1. click \"Run All\"\n",
    "1. Check that your output (figures, audio, numbers, etc.) is as you expect\n",
    "1. If the output is correct, you're done. If the output is not correct, debug and repeat until the output is correct.\n",
    "1. Make sure to include all the files that are required for the notebook to run **from the submission folder** (e.g. satie.wav). Points will be taken off from submissions that crash because Python cannot find the specified files."
   ]
  },
  {
   "cell_type": "markdown",
   "metadata": {
    "deletable": false,
    "editable": false,
    "nbgrader": {
     "checksum": "a361cc009df61d99458b45545eb991a3",
     "grade": false,
     "grade_id": "cell-5a4020e268e87c79",
     "locked": true,
     "schema_version": 1,
     "solution": false
    }
   },
   "source": [
    "**That's all for this week!**"
   ]
  }
 ],
 "metadata": {
  "kernelspec": {
   "display_name": "Python 3",
   "language": "python",
   "name": "python3"
  },
  "language_info": {
   "codemirror_mode": {
    "name": "ipython",
    "version": 3
   },
   "file_extension": ".py",
   "mimetype": "text/x-python",
   "name": "python",
   "nbconvert_exporter": "python",
   "pygments_lexer": "ipython3",
   "version": "3.6.6"
  }
 },
 "nbformat": 4,
 "nbformat_minor": 1
}
